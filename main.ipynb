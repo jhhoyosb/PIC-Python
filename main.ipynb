{
  "cells": [
    {
      "cell_type": "code",
      "execution_count": 2,
      "metadata": {
        "id": "uKTKn96WZYsL"
      },
      "outputs": [],
      "source": [
        "import numpy as np\n"
      ]
    },
    {
      "cell_type": "code",
      "execution_count": 39,
      "metadata": {
        "id": "1-vG8C6yR_ik"
      },
      "outputs": [],
      "source": [
        "# This is a code to simulate the interaction between two electron beams in a 1D plasma using an electrostatic PIC code, the length is measured in Debye length\n",
        "length_of_system = 64\n",
        "\n",
        "# dt or time_step represents the temporal time step in units of plasma period\n",
        "dt = 0.1\n",
        "\n",
        "#Frequencies are measured in units of plasma frequency \n",
        "plasma_frequency = 1;\n",
        "\n",
        "# iteration number\n",
        "iterations_number = 10\n",
        "\n",
        "# final time\n",
        "\n",
        "final_time = (iterations_number)*dt\n",
        "\n",
        "# number of grid points\n",
        "grid_points = 256\n",
        "number_of_beams =  2\n",
        "\n",
        "# Beam 1\n",
        "number_of_particles_in_beam1= 10000\n",
        "drift_velocity_beam1 = 5 #Velocities are measured in units of thermal electron velocity\n",
        "thermal_velocity_beam1 = 1\n",
        "charge_mass_relation_beam1 = -1;\n",
        "perturbation_amplitude_beam_1 = 0;\n",
        "mode_beam1 = 0;\n",
        "\n",
        "\n",
        "# Beam 2\n",
        "number_of_particles_in_beam2= 10000\n",
        "drift_velocity_beam2 = -5 #Velocities are measured in units of thermal electron velocity\n",
        "thermal_velocity_beam2 = 1\n",
        "charge_mass_relation_beam2 = -1; \n",
        "perturbation_amplitude_beam_2 = 0;\n",
        "mode_beam2 = 0;\n",
        "\n",
        "\n",
        "#Ions in the background\n",
        "number_of_background_ions = 20000;\n",
        "\n",
        "#Size of the cell\n",
        "dx = length_of_system/grid_points;\n",
        "\n",
        "time=np.arange((iterations_number+1)*dt,dt)\n",
        "\n",
        "\n"
      ]
    },
    {
      "cell_type": "code",
      "execution_count": 14,
      "metadata": {
        "id": "VLiTiCg0Z4bh"
      },
      "outputs": [],
      "source": [
        "def charge(\n",
        "    charge_mass_beam1: float,\n",
        "    charge_mass_beam2: float,\n",
        "    number_of_background_ions: int,\n",
        "    number_of_particles_in_beam1: int,\n",
        "    number_of_particles_in_beam2: int,\n",
        "    length_of_system: float,\n",
        "    plasma_frequency: float\n",
        "    ):\n",
        "    q_1 = (plasma_frequency**2 * length_of_system) / (number_of_particles_in_beam1 * charge_mass_beam1)\n",
        "    if charge_mass_beam2 > 0:\n",
        "        charge_mass_beam2 = -q_1 * (number_of_particles_in_beam1 / number_of_particles_in_beam2)\n",
        "    elif charge_mass_beam2 < 0:\n",
        "        q_2 = q_1 * (number_of_particles_in_beam1 / number_of_particles_in_beam2)\n",
        "    else:\n",
        "        q_2 = 0\n",
        "    rho_back = (-q_1 / length_of_system) * (number_of_background_ions)\n",
        "    return q_1, q_2, rho_back"
      ]
    }
  ],
  "metadata": {
    "colab": {
      "provenance": []
    },
    "kernelspec": {
      "display_name": "Python 3",
      "name": "python3"
    },
    "language_info": {
      "codemirror_mode": {
        "name": "ipython",
        "version": 3
      },
      "file_extension": ".py",
      "mimetype": "text/x-python",
      "name": "python",
      "nbconvert_exporter": "python",
      "pygments_lexer": "ipython3",
      "version": "3.11.5"
    }
  },
  "nbformat": 4,
  "nbformat_minor": 0
}
